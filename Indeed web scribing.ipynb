{
 "cells": [
  {
   "cell_type": "code",
   "execution_count": 10,
   "metadata": {},
   "outputs": [],
   "source": [
    "import requests\n",
    "from bs4 import BeautifulSoup as bs\n",
    "import pandas as pd"
   ]
  },
  {
   "cell_type": "code",
   "execution_count": 6,
   "metadata": {},
   "outputs": [
    {
     "name": "stdout",
     "output_type": "stream",
     "text": [
      "1521\n",
      "1521\n",
      "1521\n"
     ]
    }
   ],
   "source": [
    "title_list=[]\n",
    "company_list=[]\n",
    "link_list=[]\n",
    "for i in range(0,1000,10):\n",
    "    r = requests.get(f'https://hk.indeed.com/jobs?q=data+science&l=Hong+Kong&start={i}')\n",
    "    soup = bs(r.content,'lxml')\n",
    "    a=soup.find('table', id = \"pageContent\")\n",
    "    b=a.find('td', id = \"resultsCol\")\n",
    "    c= b.find_all('div', class_= \"jobsearch-SerpJobCard unifiedRow row result\")\n",
    "    c= b.find_all('div', class_= \"jobsearch-SerpJobCard unifiedRow row result\")\n",
    "\n",
    "    for i in c:\n",
    "        x = i.find('a')\n",
    "        link = x.get('href')\n",
    "        link_list.append(link)\n",
    "        title = i.find('h2').text.replace('\\n','').replace('new','')\n",
    "        title_list.append(title)\n",
    "        company = i.find('span', class_=\"company\").text.replace('\\n','')\n",
    "        company_list.append(company)\n",
    "print(len(title_list))\n",
    "print(len(link_list))\n",
    "print(len(company_list))\n"
   ]
  },
  {
   "cell_type": "code",
   "execution_count": 8,
   "metadata": {},
   "outputs": [
    {
     "data": {
      "text/plain": [
       "'Software Engineer (Mcu / Sensor) (~25K)'"
      ]
     },
     "execution_count": 8,
     "metadata": {},
     "output_type": "execute_result"
    }
   ],
   "source": [
    "title_list[-1]"
   ]
  },
  {
   "cell_type": "code",
   "execution_count": 13,
   "metadata": {},
   "outputs": [],
   "source": [
    "df=pd.DataFrame({'Title':title_list,\n",
    "                'Company Name':company_list,\n",
    "                'link_list':link_list})"
   ]
  },
  {
   "cell_type": "code",
   "execution_count": 14,
   "metadata": {},
   "outputs": [
    {
     "data": {
      "text/html": [
       "<div>\n",
       "<style scoped>\n",
       "    .dataframe tbody tr th:only-of-type {\n",
       "        vertical-align: middle;\n",
       "    }\n",
       "\n",
       "    .dataframe tbody tr th {\n",
       "        vertical-align: top;\n",
       "    }\n",
       "\n",
       "    .dataframe thead th {\n",
       "        text-align: right;\n",
       "    }\n",
       "</style>\n",
       "<table border=\"1\" class=\"dataframe\">\n",
       "  <thead>\n",
       "    <tr style=\"text-align: right;\">\n",
       "      <th></th>\n",
       "      <th>Title</th>\n",
       "      <th>Company Name</th>\n",
       "      <th>link_list</th>\n",
       "    </tr>\n",
       "  </thead>\n",
       "  <tbody>\n",
       "    <tr>\n",
       "      <th>0</th>\n",
       "      <td>Data Scientist</td>\n",
       "      <td>Apoidea</td>\n",
       "      <td>/pagead/clk?mo=r&amp;ad=-6NYlbfkN0AG-Z5eZPqR3LFavv...</td>\n",
       "    </tr>\n",
       "    <tr>\n",
       "      <th>1</th>\n",
       "      <td>Data Analyst</td>\n",
       "      <td>Worldmoney Blockchain Management Co., Limited</td>\n",
       "      <td>/pagead/clk?mo=r&amp;ad=-6NYlbfkN0At3FyQdKw8oll2lZ...</td>\n",
       "    </tr>\n",
       "    <tr>\n",
       "      <th>2</th>\n",
       "      <td>Back Office Manager</td>\n",
       "      <td>China Post Global</td>\n",
       "      <td>/pagead/clk?mo=r&amp;ad=-6NYlbfkN0B7T4tLgSfZHjfv89...</td>\n",
       "    </tr>\n",
       "    <tr>\n",
       "      <th>3</th>\n",
       "      <td>Intern, Data Analytics</td>\n",
       "      <td>AIA</td>\n",
       "      <td>/rc/clk?jk=42ae4500d2e1c097&amp;fccid=004041685e21...</td>\n",
       "    </tr>\n",
       "    <tr>\n",
       "      <th>4</th>\n",
       "      <td>Engineering Trainee (Artificial Intelligence &amp;...</td>\n",
       "      <td>Virtual Control Limited</td>\n",
       "      <td>/company/Virtual-Control-Limited/jobs/Engineer...</td>\n",
       "    </tr>\n",
       "    <tr>\n",
       "      <th>...</th>\n",
       "      <td>...</td>\n",
       "      <td>...</td>\n",
       "      <td>...</td>\n",
       "    </tr>\n",
       "    <tr>\n",
       "      <th>1516</th>\n",
       "      <td>Analyst Programmer (E-commerce) - Welcome for ...</td>\n",
       "      <td>Bonjour Cosmetic Wholesale Center Limited</td>\n",
       "      <td>/pagead/clk?mo=r&amp;ad=-6NYlbfkN0CSte6oGGtDxh-7fh...</td>\n",
       "    </tr>\n",
       "    <tr>\n",
       "      <th>1517</th>\n",
       "      <td>Senior Research Assistant / Research Assistant</td>\n",
       "      <td>Hong Kong Baptist University香港浸會大學</td>\n",
       "      <td>/pagead/clk?mo=r&amp;ad=-6NYlbfkN0CSte6oGGtDxh-7fh...</td>\n",
       "    </tr>\n",
       "    <tr>\n",
       "      <th>1518</th>\n",
       "      <td>Test Manager (Core Banking Project)</td>\n",
       "      <td>Dah Sing Financial Group</td>\n",
       "      <td>/pagead/clk?mo=r&amp;ad=-6NYlbfkN0CSte6oGGtDxh-7fh...</td>\n",
       "    </tr>\n",
       "    <tr>\n",
       "      <th>1519</th>\n",
       "      <td>Business Analyst (eCommerce)</td>\n",
       "      <td>A.S. Watson Retail (HK) Limited</td>\n",
       "      <td>/pagead/clk?mo=r&amp;ad=-6NYlbfkN0CSte6oGGtDxh-7fh...</td>\n",
       "    </tr>\n",
       "    <tr>\n",
       "      <th>1520</th>\n",
       "      <td>Software Engineer (Mcu / Sensor) (~25K)</td>\n",
       "      <td>Bond West Consultants</td>\n",
       "      <td>/pagead/clk?mo=r&amp;ad=-6NYlbfkN0CSte6oGGtDxh-7fh...</td>\n",
       "    </tr>\n",
       "  </tbody>\n",
       "</table>\n",
       "<p>1521 rows × 3 columns</p>\n",
       "</div>"
      ],
      "text/plain": [
       "                                                  Title  \\\n",
       "0                                        Data Scientist   \n",
       "1                                          Data Analyst   \n",
       "2                                   Back Office Manager   \n",
       "3                                Intern, Data Analytics   \n",
       "4     Engineering Trainee (Artificial Intelligence &...   \n",
       "...                                                 ...   \n",
       "1516  Analyst Programmer (E-commerce) - Welcome for ...   \n",
       "1517     Senior Research Assistant / Research Assistant   \n",
       "1518                Test Manager (Core Banking Project)   \n",
       "1519                       Business Analyst (eCommerce)   \n",
       "1520            Software Engineer (Mcu / Sensor) (~25K)   \n",
       "\n",
       "                                       Company Name  \\\n",
       "0                                           Apoidea   \n",
       "1     Worldmoney Blockchain Management Co., Limited   \n",
       "2                                 China Post Global   \n",
       "3                                               AIA   \n",
       "4                           Virtual Control Limited   \n",
       "...                                             ...   \n",
       "1516      Bonjour Cosmetic Wholesale Center Limited   \n",
       "1517             Hong Kong Baptist University香港浸會大學   \n",
       "1518                       Dah Sing Financial Group   \n",
       "1519                A.S. Watson Retail (HK) Limited   \n",
       "1520                          Bond West Consultants   \n",
       "\n",
       "                                              link_list  \n",
       "0     /pagead/clk?mo=r&ad=-6NYlbfkN0AG-Z5eZPqR3LFavv...  \n",
       "1     /pagead/clk?mo=r&ad=-6NYlbfkN0At3FyQdKw8oll2lZ...  \n",
       "2     /pagead/clk?mo=r&ad=-6NYlbfkN0B7T4tLgSfZHjfv89...  \n",
       "3     /rc/clk?jk=42ae4500d2e1c097&fccid=004041685e21...  \n",
       "4     /company/Virtual-Control-Limited/jobs/Engineer...  \n",
       "...                                                 ...  \n",
       "1516  /pagead/clk?mo=r&ad=-6NYlbfkN0CSte6oGGtDxh-7fh...  \n",
       "1517  /pagead/clk?mo=r&ad=-6NYlbfkN0CSte6oGGtDxh-7fh...  \n",
       "1518  /pagead/clk?mo=r&ad=-6NYlbfkN0CSte6oGGtDxh-7fh...  \n",
       "1519  /pagead/clk?mo=r&ad=-6NYlbfkN0CSte6oGGtDxh-7fh...  \n",
       "1520  /pagead/clk?mo=r&ad=-6NYlbfkN0CSte6oGGtDxh-7fh...  \n",
       "\n",
       "[1521 rows x 3 columns]"
      ]
     },
     "execution_count": 14,
     "metadata": {},
     "output_type": "execute_result"
    }
   ],
   "source": [
    "df"
   ]
  },
  {
   "cell_type": "code",
   "execution_count": 17,
   "metadata": {},
   "outputs": [
    {
     "name": "stdout",
     "output_type": "stream",
     "text": [
      "/pagead/clk?mo=r&ad=-6NYlbfkN0CSte6oGGtDxh-7fhYpl3JUF32xG07cYNaxIIfxptA_Wgi2_nEAFSrMbNj1WHu8bcwrDoKeGGpNIEA2k9YhDr0SLWw9GNiffjQrSJPc9PEuXX88R71l_tLsK5EXLw4lByfZtpPqqYud_xprX7b6Yv1PdfwpNMgmpvk3o-KyVYTGNwLEWe0i_qMVH3Ik6QdRWp52BDO0M8r3j02gqeJ5DMas7LISoHjXyMa4joqVS3eCQFQHSn6w_sy_2PTo7j1hi2-nQkrzWxzcRYWV_Y6sp8M7E0CxLGyVpUcYPfnPI1H27E82kjQZOtXRqDvvEXk8gKywwyurovOvt9zcYb83XEdajfbCymkKT1VP3VwdXmjwcqOIido2PL7K3TYwWiWeNpSvJBUdD8bixyBYVmwfenMru6eOmGcN18fJuHoafDyttsk_obK5N4EDFNohLB8NzkNX9l-FG9r7AqwekGqlFtG0S-cXdd7LxEa-KD_ExUtsvvJY7iJSgNUYzs4tp4FzHehaLw1D8C8N79g1X6exDAozGKoCkTt-LU-Qe1Xu0rm_Gqt1RslGO-ZmI-nfXpndmyELMUal8Y2lTudLePhjXdNSzs8bo4-dQrvr-WVH8Y8oudpM4fSScJxRDoAwopIhrvPRHLOppOynwXELuqnrd0QzGKcocRcNdBuUgs7nOMhwrvuAYw0mO8cX&p=14&fvj=0&vjs=3\n"
     ]
    }
   ],
   "source": [
    "print(df.link_list.iloc[-1])"
   ]
  },
  {
   "cell_type": "code",
   "execution_count": 18,
   "metadata": {},
   "outputs": [],
   "source": [
    "df.to_csv('Data_science.csv')"
   ]
  },
  {
   "cell_type": "code",
   "execution_count": 19,
   "metadata": {},
   "outputs": [
    {
     "data": {
      "text/plain": [
       "'Bank SinoPac 永豐銀行'"
      ]
     },
     "execution_count": 19,
     "metadata": {},
     "output_type": "execute_result"
    }
   ],
   "source": [
    "df['Company Name'].loc[1247]"
   ]
  },
  {
   "cell_type": "code",
   "execution_count": 20,
   "metadata": {},
   "outputs": [],
   "source": [
    "df.to_excel('Data_science.xlsx')"
   ]
  },
  {
   "cell_type": "code",
   "execution_count": null,
   "metadata": {},
   "outputs": [],
   "source": []
  }
 ],
 "metadata": {
  "kernelspec": {
   "display_name": "Python 3",
   "language": "python",
   "name": "python3"
  },
  "language_info": {
   "codemirror_mode": {
    "name": "ipython",
    "version": 3
   },
   "file_extension": ".py",
   "mimetype": "text/x-python",
   "name": "python",
   "nbconvert_exporter": "python",
   "pygments_lexer": "ipython3",
   "version": "3.7.6"
  }
 },
 "nbformat": 4,
 "nbformat_minor": 4
}
